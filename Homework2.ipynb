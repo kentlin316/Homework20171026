{
 "cells": [
  {
   "cell_type": "markdown",
   "metadata": {},
   "source": [
    "### 1.匯入模組\n",
    "### 2.宣告函數"
   ]
  },
  {
   "cell_type": "code",
   "execution_count": 19,
   "metadata": {},
   "outputs": [],
   "source": [
    "import os\n",
    "def foo( str1,str2 ):\n",
    "    print (str1)\n",
    "    print (str2)\n",
    "    return\n",
    "   "
   ]
  },
  {
   "cell_type": "markdown",
   "metadata": {},
   "source": [
    "### 確定目前所用的模組是主要的模組還是掛進來的模組"
   ]
  },
  {
   "cell_type": "code",
   "execution_count": 7,
   "metadata": {},
   "outputs": [
    {
     "name": "stdout",
     "output_type": "stream",
     "text": [
      "__main__\n"
     ]
    }
   ],
   "source": [
    "if __name__==\"__main__\":\n",
    "    print 'hello world!'\n",
    "    print 'This is Alice Greeting'\n",
    "    print 'This is Bob Greeting'\n",
    "    \n",
    "    "
   ]
  },
  {
   "cell_type": "markdown",
   "metadata": {},
   "source": [
    "### 呼叫函數 "
   ]
  },
  {
   "cell_type": "code",
   "execution_count": 21,
   "metadata": {
    "scrolled": true
   },
   "outputs": [
    {
     "name": "stdout",
     "output_type": "stream",
     "text": [
      "5\n",
      "2\n"
     ]
    }
   ],
   "source": [
    "    foo(5,2)"
   ]
  },
  {
   "cell_type": "markdown",
   "metadata": {},
   "source": [
    "### 打前面的等號印10次"
   ]
  },
  {
   "cell_type": "code",
   "execution_count": 24,
   "metadata": {},
   "outputs": [
    {
     "name": "stdout",
     "output_type": "stream",
     "text": [
      "==========\n"
     ]
    }
   ],
   "source": [
    "print ('=' * 10)"
   ]
  },
  {
   "cell_type": "markdown",
   "metadata": {},
   "source": [
    "### 若PRINT指令所要呈現的字再加上會變動的參數的話，需要括號框起來"
   ]
  },
  {
   "cell_type": "code",
   "execution_count": 26,
   "metadata": {},
   "outputs": [
    {
     "name": "stdout",
     "output_type": "stream",
     "text": [
      "current work directory is D:\\PYTHON\\HOMEWORK\\Homework20171026\n"
     ]
    }
   ],
   "source": [
    "print ('current work directory is '+ os.getcwd())"
   ]
  },
  {
   "cell_type": "markdown",
   "metadata": {},
   "source": [
    "### 變數必須擺在式子的最前端。"
   ]
  },
  {
   "cell_type": "code",
   "execution_count": 28,
   "metadata": {
    "collapsed": true
   },
   "outputs": [],
   "source": [
    "counter =0\n",
    "counter+=1"
   ]
  },
  {
   "cell_type": "code",
   "execution_count": 29,
   "metadata": {
    "collapsed": true
   },
   "outputs": [],
   "source": [
    "food = ['apple','orange','cats']"
   ]
  },
  {
   "cell_type": "markdown",
   "metadata": {},
   "source": [
    "### FOR + I 迴圈"
   ]
  },
  {
   "cell_type": "code",
   "execution_count": 30,
   "metadata": {},
   "outputs": [
    {
     "name": "stdout",
     "output_type": "stream",
     "text": [
      "i would like to eat apple\n",
      "i would like to eat orange\n",
      "i would like to eat cats\n"
     ]
    }
   ],
   "source": [
    "for i in food:\n",
    "    print ('i would like to eat '+ i)"
   ]
  },
  {
   "cell_type": "markdown",
   "metadata": {},
   "source": [
    "### Range(10)是包含0123456789的集合\n",
    "### 不要忘記加冒號"
   ]
  },
  {
   "cell_type": "code",
   "execution_count": 39,
   "metadata": {},
   "outputs": [
    {
     "name": "stdout",
     "output_type": "stream",
     "text": [
      "Count to ten:\n",
      "1\n",
      "2\n",
      "3\n",
      "4\n",
      "5\n",
      "6\n",
      "7\n",
      "8\n",
      "9\n",
      "10\n"
     ]
    }
   ],
   "source": [
    "print ('Count to ten:')\n",
    "for i in range(10):\n",
    "    print (i+1)"
   ]
  },
  {
   "cell_type": "markdown",
   "metadata": {},
   "source": [
    "### 1. def後面不要忘記加冒號\n",
    "### 2. %s表示後方的變數 \n",
    "### 3 %:等符號運作與C符號運作原理相同\n",
    "### 4. 布林值非數字ㄨㄟ非數字，為文字。\n",
    "### 5. def、for、while、if、elif、and、else後面記得加冒號"
   ]
  },
  {
   "cell_type": "code",
   "execution_count": 48,
   "metadata": {},
   "outputs": [],
   "source": [
    "def foo(param1,secondparam):\n",
    "    res = param1 + secondparam\n",
    "    print ('%s plus %s is equal to %s' % (param1,secondparam,res))\n",
    "    if res <50:\n",
    "        print ('foo')\n",
    "    elif (res>=50) and ((param1==42) or (secondparam==24)):\n",
    "        print ('bar')\n",
    "    else:\n",
    "        print ('moo')\n",
    "    return res # this is a one-line comments.\n",
    "    '''A multi-\n",
    "line string,but can also be a multi-line comment.'''\n",
    "\n",
    "\n"
   ]
  },
  {
   "cell_type": "code",
   "execution_count": 51,
   "metadata": {},
   "outputs": [
    {
     "name": "stdout",
     "output_type": "stream",
     "text": [
      "42 plus 24 is equal to 66\n",
      "bar\n"
     ]
    },
    {
     "data": {
      "text/plain": [
       "66"
      ]
     },
     "execution_count": 51,
     "metadata": {},
     "output_type": "execute_result"
    }
   ],
   "source": [
    "    foo(42,24)"
   ]
  },
  {
   "cell_type": "code",
   "execution_count": null,
   "metadata": {
    "collapsed": true
   },
   "outputs": [],
   "source": []
  }
 ],
 "metadata": {
  "kernelspec": {
   "display_name": "Python 3",
   "language": "python",
   "name": "python3"
  },
  "language_info": {
   "codemirror_mode": {
    "name": "ipython",
    "version": 3
   },
   "file_extension": ".py",
   "mimetype": "text/x-python",
   "name": "python",
   "nbconvert_exporter": "python",
   "pygments_lexer": "ipython3",
   "version": "3.6.3"
  }
 },
 "nbformat": 4,
 "nbformat_minor": 2
}
